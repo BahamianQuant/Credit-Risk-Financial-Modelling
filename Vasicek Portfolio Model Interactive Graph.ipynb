{
 "cells": [
  {
   "cell_type": "code",
   "execution_count": 1,
   "id": "c9691ea1-3911-429a-b01d-881c0f7af11b",
   "metadata": {
    "tags": []
   },
   "outputs": [],
   "source": [
    "import seaborn as sb\n",
    "import numpy as np\n",
    "import pandas as pd\n",
    "from matplotlib import pyplot as plt \n",
    "import scipy.stats as st\n",
    "import plotly.express as px\n",
    "from ipywidgets import IntSlider, HTML, widgets\n",
    "sb.set()\n",
    "\n",
    "import matplotlib as mpl\n",
    "sb.set(rc = {'figure.figsize':(10,5)})\n",
    "mpl.rcParams['figure.dpi'] = 110"
   ]
  },
  {
   "cell_type": "code",
   "execution_count": 4,
   "id": "39412b61-6e76-4b25-8339-20bb2c7f89f1",
   "metadata": {
    "tags": []
   },
   "outputs": [],
   "source": [
    "#assumes a loss given default of 1\n",
    "def vasicek(a,PD,N):\n",
    "    \"\"\"Description of Function\"\"\"\n",
    "    Z=np.random.normal() #generates systematic factor i.e state of economy etc\n",
    "    Y_i=np.random.normal(size=(1,N)) #generates idosyncratic factors for N borrowers\n",
    "    X_i=np.sqrt(a)*Z+np.sqrt(1-a)*Y_i #generates default driver for each borrower\n",
    "    Threshold=st.norm.ppf(PD) #defines threshold for default given PD\n",
    "    Defaults = np.where(X_i<Threshold,1,0) #generates default indicators and sums them\n",
    "    Loss = Defaults #normally loss = lgd*defaults, but here lgd is 1\n",
    "    \n",
    "    return np.sum(Loss)\n",
    "\n",
    "def MC(a,PD,N):\n",
    "    return np.array([vasicek(a,PD,N) for i in range(10000)])"
   ]
  },
  {
   "cell_type": "markdown",
   "id": "197b729e",
   "metadata": {},
   "source": [
    "# Effects of Input Variables on the Loss Distribution\n",
    "### In this block, we're going to observe how changing the correlation and PD changes the shape of the loss distribution"
   ]
  },
  {
   "cell_type": "code",
   "execution_count": 25,
   "id": "2ed6258e",
   "metadata": {
    "tags": []
   },
   "outputs": [
    {
     "data": {
      "application/vnd.jupyter.widget-view+json": {
       "model_id": "9a0c12645466416eb8a442815628d090",
       "version_major": 2,
       "version_minor": 0
      },
      "text/plain": [
       "interactive(children=(FloatSlider(value=0.9999, description='Correlation', max=0.9999, min=0.001, readout_form…"
      ]
     },
     "metadata": {},
     "output_type": "display_data"
    },
    {
     "data": {
      "text/plain": [
       "<Figure size 1100x550 with 0 Axes>"
      ]
     },
     "metadata": {},
     "output_type": "display_data"
    }
   ],
   "source": [
    "\n",
    "\"\"\"\"\"\"\n",
    "fig = plt.figure(facecolor='w');\n",
    "#ax = fig.add_subplot(111, facecolor='black', axisbelow=True)\n",
    "\n",
    "#correlation\n",
    "a = widgets.FloatSlider(min=0.001, max=0.9999, step = 0.1, \n",
    "                        value =0.9999, description = 'Correlation',\n",
    "                        readout_format = '.3f')\n",
    "\n",
    "#probability of default\n",
    "PD = widgets.FloatSlider(min=0, max=1, step =0.1,\n",
    "                         value =0.9, description = 'Probabilty of Default',\n",
    "                         readout_format = '.3f')\n",
    "\n",
    "def MC_Vis(a,PD,N):\n",
    "    ax.clear()\n",
    "    sb.histplot(MC(a,PD,N),discrete=True,kde=True,color ='magenta');\n",
    "    plt.xlabel('Losses');\n",
    "    plt.ylabel('Frequency of Loss');\n",
    "    \n",
    "widgets.interactive(MC_Vis,a=a,PD=PD,N=1000)"
   ]
  },
  {
   "cell_type": "code",
   "execution_count": null,
   "id": "44ec3ace-356b-4f17-a719-3b89d507a367",
   "metadata": {},
   "outputs": [],
   "source": []
  }
 ],
 "metadata": {
  "kernelspec": {
   "display_name": "Python 3 (ipykernel)",
   "language": "python",
   "name": "python3"
  },
  "language_info": {
   "codemirror_mode": {
    "name": "ipython",
    "version": 3
   },
   "file_extension": ".py",
   "mimetype": "text/x-python",
   "name": "python",
   "nbconvert_exporter": "python",
   "pygments_lexer": "ipython3",
   "version": "3.9.15"
  }
 },
 "nbformat": 4,
 "nbformat_minor": 5
}
