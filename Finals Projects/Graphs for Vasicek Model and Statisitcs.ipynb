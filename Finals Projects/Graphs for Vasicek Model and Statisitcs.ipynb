{
 "cells": [
  {
   "cell_type": "code",
   "execution_count": 48,
   "id": "03aa9cb1",
   "metadata": {
    "tags": []
   },
   "outputs": [],
   "source": [
    "import seaborn as sb\n",
    "from scipy.integrate import quad\n",
    "import numpy as np\n",
    "import pandas as pd\n",
    "from matplotlib import pyplot as plt \n",
    "import matplotlib as mpl\n",
    "import scipy.stats as st\n",
    "from scipy.stats import multivariate_normal as mvn\n",
    "\n",
    "#setting default parameters for plots\n",
    "sb.set()\n",
    "sb.set_style(\"dark\") #removing gridlines and darkening background to make more presentation friendly \n",
    "sb.set(rc = {'figure.figsize':(18,11)})\n",
    "mpl.rcParams['figure.dpi'] = 300"
   ]
  },
  {
   "cell_type": "code",
   "execution_count": 68,
   "id": "7606c727",
   "metadata": {
    "tags": []
   },
   "outputs": [],
   "source": [
    "def vasicek(a,PD,N):\n",
    "    Z=np.random.normal() \n",
    "    Y_i=np.random.normal(size=(1,N)) \n",
    "    X_i=np.sqrt(a)*Z+np.sqrt(1-a)*Y_i \n",
    "    Threshold=st.norm.ppf(PD) \n",
    "    Defaults = np.where(X_i<Threshold,1,0) \n",
    "    Loss = Defaults \n",
    "    return np.sum(Loss)\n",
    "\n",
    "def MC(a,PD,N): #monte carlo function\n",
    "    return np.array([vasicek(a,PD,N) for i in range(10000)])\n",
    "\n",
    "def loss_density(x): \n",
    "    first= np.sqrt((1-a)/a)\n",
    "    exp=(-1/(2*a))*(np.sqrt(1-a)*st.norm.ppf(x)-st.norm.ppf(PD))**2+0.5*(st.norm.ppf(x)**2) # exponent term of expontential\n",
    "    return first*np.exp(exp)\n",
    "\n",
    "\n",
    "def loss_density_integrand(x): #calculating first moment\n",
    "    first= np.sqrt((1-a)/a)\n",
    "    exp=(-1/(2*a))*(np.sqrt(1-a)*st.norm.ppf(x)-st.norm.ppf(PD))**2+0.5*(st.norm.ppf(x)**2) # exponent term of expontential\n",
    "    return x*first*np.exp(exp)\n",
    "\n",
    "def loss_density_variance_integrand(x): #calculating second moment\n",
    "    first= np.sqrt((1-a)/a)\n",
    "    exp=(-1/(2*a))*(np.sqrt(1-a)*st.norm.ppf(x)-st.norm.ppf(PD))**2+0.5*(st.norm.ppf(x)**2) # exponent term of expontential\n",
    "    return (x**2)*first*np.exp(exp)\n",
    "\n",
    "\"\"\"Computing Confidence intervals for estimates to perform repeated valuations to estimate the confidence intervals for our simulation estimates\n",
    "we run the Monte Carlo simulation several times and compute the expected loss etc for each simulation we then store these values in a list. \n",
    "This process is repeated for each portfolio size\n",
    "\"\"\"\n",
    "def repeated_val(a,PD,N):\n",
    "    List=[]\n",
    "    for i in range(50): \n",
    "        temp = MC(a,PD,N) #this increases computational time exponentially\n",
    "        Mean=np.mean(temp)\n",
    "        Std=np.std(temp)\n",
    "        VaR=sorted(temp)[9990]\n",
    "        ES=np.mean(temp[temp>=VaR])\n",
    "        EC=VaR-Mean\n",
    "        List.append((N,Mean,Std,VaR,ES,EC))\n",
    "    return List\n",
    "\n"
   ]
  },
  {
   "cell_type": "code",
   "execution_count": 50,
   "id": "3e456b41",
   "metadata": {
    "tags": []
   },
   "outputs": [],
   "source": [
    "\"\"\"Generates dataframe with Losses for portfolio of various sizes\"\"\"\n",
    "N=np.array([1000,10000,50000,100000])\n",
    "Loss=pd.DataFrame()\n",
    "PD=0.05\n",
    "a=0.1"
   ]
  },
  {
   "cell_type": "code",
   "execution_count": null,
   "id": "f9dbe48b",
   "metadata": {},
   "outputs": [],
   "source": [
    "\"\"\"Generates plots of smaller portfolio sizes to show how quickly the model converges to its asymptotic form\"\"\"\n",
    "fig,ax=plt.subplots(2,2)\n",
    "sb.histplot(MC(a,PD,50),discrete=True, kde=True,ax=ax[0][0], color='magenta').set(title='50 Borrowers')\n",
    "sb.histplot(MC(a,PD,60),discrete=True, kde=True,ax=ax[0][1],color='orange').set(title='60 Borrowers')\n",
    "sb.histplot(MC(a,PD,80),discrete=True, kde=True,ax=ax[1][0],color='blue').set(title='80 Borrowers')\n",
    "sb.histplot(MC(a,PD,120),discrete=True, kde=True,ax=ax[1][1],color='green').set(title='120 Borrowers');"
   ]
  },
  {
   "cell_type": "code",
   "execution_count": 51,
   "id": "42871fda",
   "metadata": {
    "tags": []
   },
   "outputs": [],
   "source": [
    "\"\"\"I've split the dataframe call from this block because these take some time to run\"\"\"\n",
    "Loss['1,000 Borrowers']=MC(0.1,0.05,N[0])\n",
    "Loss['10,000 Borrowers']=MC(0.1,0.05,N[1])\n",
    "Loss['50,000 Borrowers']=MC(0.1,0.05,N[2])\n",
    "Loss['100,000 Borrowers']=MC(0.1,0.05,N[3])"
   ]
  },
  {
   "cell_type": "code",
   "execution_count": null,
   "id": "b98eee94-b0aa-4529-bc11-03dabea76efe",
   "metadata": {
    "tags": []
   },
   "outputs": [],
   "source": [
    "(\n",
    "sb.histplot(Loss['1,000 Borrowers'],discrete=False,kde=True, color='blue',bins=100)\n",
    "    .set(title='Loss Distribution for 1,000')\n",
    ")\n",
    "plt.xlabel('Loss')\n",
    "plt.ylabel('');"
   ]
  },
  {
   "cell_type": "code",
   "execution_count": null,
   "id": "6739e421-07c6-4238-b844-4b500d9078d9",
   "metadata": {
    "tags": []
   },
   "outputs": [],
   "source": [
    "sb.histplot(Loss['10,000 Borrowers'],discrete=False,kde=True, color='magenta').set(title='Loss Distribution for 10,000');\n",
    "plt.xlabel('Loss')\n",
    "plt.ylabel('');"
   ]
  },
  {
   "cell_type": "code",
   "execution_count": null,
   "id": "003ab52d-1fb0-4c60-8fce-b5afb9c0f264",
   "metadata": {
    "tags": []
   },
   "outputs": [],
   "source": [
    "(\n",
    "sb.histplot(Loss['50,000 Borrowers'],discrete=False,kde=True, color='red',facecolor='black')\n",
    ".set(title='Loss Distribution for 50,000')\n",
    ");\n",
    "plt.xlabel('Loss')\n",
    "plt.ylabel('');"
   ]
  },
  {
   "cell_type": "code",
   "execution_count": null,
   "id": "f02456ef-4a11-43a2-a6ed-2ca095114333",
   "metadata": {
    "tags": []
   },
   "outputs": [],
   "source": [
    "sb.histplot(Loss['100,000 Borrowers'],discrete=False,kde=True, color='green').set(title='Loss Distribution for 100,000');\n",
    "plt.xlabel('Loss')\n",
    "plt.ylabel('');"
   ]
  },
  {
   "cell_type": "code",
   "execution_count": null,
   "id": "d1bc646c-8a55-4251-a994-fc11e63aada1",
   "metadata": {
    "tags": []
   },
   "outputs": [],
   "source": [
    "\"\"\"Comparative historgrams with losses represented as a fraction of borrowers\"\"\"\n",
    "(\n",
    "sb.histplot(Loss/N, multiple='dodge',bins=25,kde=True,color='palette')\n",
    ".set(title='Loss Distribution')\n",
    ")\n",
    "#sb.kdeplot('Loss/N')\n",
    "plt.xlabel('Loss')\n",
    "plt.ylabel('');"
   ]
  },
  {
   "cell_type": "code",
   "execution_count": null,
   "id": "8441cfc4-0db1-4885-92f5-6fc5dcb6a769",
   "metadata": {},
   "outputs": [],
   "source": [
    "\"\"\"This shows two ways of calculating the standard deviation or variance of this distribution. \n",
    "The first is used because it is several orders of magnitudes faster (86 microseconds vs 36 milliseconds\"\"\"\n",
    "mean = np.array([0,0]) #setting mean to 0\n",
    "covariance = np.array([[1, 0.1],[0.1, 1]]) #setting variance to 1 with correlation 0.1\n",
    "dist = mvn(mean=mean, cov=covariance) #setting parameter of distribution\n",
    "np.sqrt(dist.cdf(np.array([Threshold,Threshold]))-0.05**2) #calculating variance of loss distribution\n",
    "\n",
    "\"\"\"This is an alternative method of calculating the variance using moments\"\"\"\n",
    "np.sqrt(quad(loss_density_variance_integrand,0,1)[0]-0.05**2)"
   ]
  },
  {
   "cell_type": "code",
   "execution_count": 52,
   "id": "710e8363-00ea-4282-b08b-7e9cee39a467",
   "metadata": {
    "tags": []
   },
   "outputs": [],
   "source": [
    "\"\"\"Computing statistics for each portfolio size. Here, I compare the estimated portfolio qualities\n",
    "to the asymptotitic qualities of Vasicek Model. Refer to the paper for derivations of formulas\"\"\"\n",
    "Estimates=pd.DataFrame(index=['1,000 Borrowers','10,000 Borrowers','50,000 Borrowers','100,000 Borrowers'])\n",
    "Estimates['Est. Exp. Loss']=Loss.mean()/np.sqrt(1-0.1)\n",
    "Estimates['Act. Exp. Loss']=N*0.05 #actual expected loss via closed form formula\n",
    "\n",
    "Estimates['Est. Standard Deviation']=Loss.std()\n",
    "Estimates['Act. Standard Deviation']=np.sqrt(dist.cdf(np.array([Threshold,Threshold]))-0.05**2)*N\n",
    "\n",
    "\n",
    "Estimates['Est. 99.9% VaR']=(\n",
    "    \n",
    "Loss.sort_values(by=['1,000 Borrowers']).iloc[9990]['1,000 Borrowers'],\n",
    "Loss.sort_values(by=['10,000 Borrowers']).iloc[9990]['10,000 Borrowers'],\n",
    "Loss.sort_values(by=['50,000 Borrowers']).iloc[9990]['50,000 Borrowers'],\n",
    "Loss.sort_values(by=['100,000 Borrowers']).iloc[9990]['100,000 Borrowers'],\n",
    "    \n",
    ")\n",
    "Estimates['Act. 99.9% VaR']=(st.norm.cdf((st.norm.ppf(0.05)+np.sqrt(0.1)*st.norm.ppf(0.999))/np.sqrt(1-0.1)))*N \n",
    "\n",
    "Estimates['Est. Economic Capital']=-Estimates['Est. Exp. Loss']+Estimates['Est. 99.9% VaR']\n",
    "Estimates['Act. Economic Capital']=-Estimates['Act. Exp. Loss']+Estimates['Act. 99.9% VaR']"
   ]
  },
  {
   "cell_type": "code",
   "execution_count": 53,
   "id": "80868de3-bee4-4db4-82eb-938e787cff83",
   "metadata": {
    "tags": []
   },
   "outputs": [
    {
     "data": {
      "text/html": [
       "<div>\n",
       "<style scoped>\n",
       "    .dataframe tbody tr th:only-of-type {\n",
       "        vertical-align: middle;\n",
       "    }\n",
       "\n",
       "    .dataframe tbody tr th {\n",
       "        vertical-align: top;\n",
       "    }\n",
       "\n",
       "    .dataframe thead th {\n",
       "        text-align: right;\n",
       "    }\n",
       "</style>\n",
       "<table border=\"1\" class=\"dataframe\">\n",
       "  <thead>\n",
       "    <tr style=\"text-align: right;\">\n",
       "      <th></th>\n",
       "      <th>Est. Exp. Loss</th>\n",
       "      <th>Act. Exp. Loss</th>\n",
       "      <th>Est. Standard Deviation</th>\n",
       "      <th>Act. Standard Deviation</th>\n",
       "      <th>Est. 99.9% VaR</th>\n",
       "      <th>Act. 99.9% VaR</th>\n",
       "      <th>Est. Economic Capital</th>\n",
       "      <th>Act. Economic Capital</th>\n",
       "      <th>Act. Expected Shortfall</th>\n",
       "      <th>Est. Expected Shortfall</th>\n",
       "    </tr>\n",
       "  </thead>\n",
       "  <tbody>\n",
       "    <tr>\n",
       "      <th>1,000 Borrowers</th>\n",
       "      <td>52.5395</td>\n",
       "      <td>50.0</td>\n",
       "      <td>35.3337</td>\n",
       "      <td>34.8251</td>\n",
       "      <td>235</td>\n",
       "      <td>240.7941</td>\n",
       "      <td>182.4605</td>\n",
       "      <td>190.7941</td>\n",
       "      <td>271.1156</td>\n",
       "      <td>276.1250</td>\n",
       "    </tr>\n",
       "    <tr>\n",
       "      <th>10,000 Borrowers</th>\n",
       "      <td>528.6602</td>\n",
       "      <td>500.0</td>\n",
       "      <td>347.9989</td>\n",
       "      <td>348.2512</td>\n",
       "      <td>2455</td>\n",
       "      <td>2407.9407</td>\n",
       "      <td>1926.3398</td>\n",
       "      <td>1907.9407</td>\n",
       "      <td>2711.1562</td>\n",
       "      <td>2912.2727</td>\n",
       "    </tr>\n",
       "    <tr>\n",
       "      <th>50,000 Borrowers</th>\n",
       "      <td>2601.2274</td>\n",
       "      <td>2500.0</td>\n",
       "      <td>1724.0124</td>\n",
       "      <td>1741.2561</td>\n",
       "      <td>11849</td>\n",
       "      <td>12039.7037</td>\n",
       "      <td>9247.7726</td>\n",
       "      <td>9539.7037</td>\n",
       "      <td>13555.7809</td>\n",
       "      <td>14640.3333</td>\n",
       "    </tr>\n",
       "    <tr>\n",
       "      <th>100,000 Borrowers</th>\n",
       "      <td>5308.2932</td>\n",
       "      <td>5000.0</td>\n",
       "      <td>3495.4547</td>\n",
       "      <td>3482.5122</td>\n",
       "      <td>24413</td>\n",
       "      <td>24079.4075</td>\n",
       "      <td>19104.7068</td>\n",
       "      <td>19079.4075</td>\n",
       "      <td>27111.5619</td>\n",
       "      <td>27917.5000</td>\n",
       "    </tr>\n",
       "  </tbody>\n",
       "</table>\n",
       "</div>"
      ],
      "text/plain": [
       "                   Est. Exp. Loss  Act. Exp. Loss  Est. Standard Deviation  \\\n",
       "1,000 Borrowers           52.5395            50.0                  35.3337   \n",
       "10,000 Borrowers         528.6602           500.0                 347.9989   \n",
       "50,000 Borrowers        2601.2274          2500.0                1724.0124   \n",
       "100,000 Borrowers       5308.2932          5000.0                3495.4547   \n",
       "\n",
       "                   Act. Standard Deviation  Est. 99.9% VaR  Act. 99.9% VaR  \\\n",
       "1,000 Borrowers                    34.8251             235        240.7941   \n",
       "10,000 Borrowers                  348.2512            2455       2407.9407   \n",
       "50,000 Borrowers                 1741.2561           11849      12039.7037   \n",
       "100,000 Borrowers                3482.5122           24413      24079.4075   \n",
       "\n",
       "                   Est. Economic Capital  Act. Economic Capital  \\\n",
       "1,000 Borrowers                 182.4605               190.7941   \n",
       "10,000 Borrowers               1926.3398              1907.9407   \n",
       "50,000 Borrowers               9247.7726              9539.7037   \n",
       "100,000 Borrowers             19104.7068             19079.4075   \n",
       "\n",
       "                   Act. Expected Shortfall  Est. Expected Shortfall  \n",
       "1,000 Borrowers                   271.1156                 276.1250  \n",
       "10,000 Borrowers                 2711.1562                2912.2727  \n",
       "50,000 Borrowers                13555.7809               14640.3333  \n",
       "100,000 Borrowers               27111.5619               27917.5000  "
      ]
     },
     "execution_count": 53,
     "metadata": {},
     "output_type": "execute_result"
    }
   ],
   "source": [
    "\"\"\"Estimating Expected Shortfall by integration\"\"\"\n",
    "\n",
    "#VaR normalized by dividing by portfolio size\n",
    "VaR_Norm=st.norm.cdf((st.norm.ppf(PD)+np.sqrt(a)*st.norm.ppf(0.999))/np.sqrt(1-a)) \n",
    "\n",
    "ES=quad(loss_density_integrand,0.2408,1)[0]/0.001 #integrating loss denisty function to calculate ES\n",
    "Estimates['Act. Expected Shortfall']=ES*N\n",
    "\n",
    "VaR_1K=st.norm.cdf((st.norm.ppf(0.05)+np.sqrt(0.1)*st.norm.ppf(0.999))/np.sqrt(1-0.1))*1000\n",
    "VaR_10K=st.norm.cdf((st.norm.ppf(0.05)+np.sqrt(0.1)*st.norm.ppf(0.999))/np.sqrt(1-0.1))*10000\n",
    "VaR_50K=st.norm.cdf((st.norm.ppf(0.05)+np.sqrt(0.1)*st.norm.ppf(0.999))/np.sqrt(1-0.1))*50000\n",
    "VaR_100K=st.norm.cdf((st.norm.ppf(0.05)+np.sqrt(0.1)*st.norm.ppf(0.999))/np.sqrt(1-0.1))*100000\n",
    "\n",
    "Estimates['Est. Expected Shortfall']=[\n",
    "    Loss.query(\"`1,000 Borrowers` > @VaR_1K\")['1,000 Borrowers'].mean(),\n",
    "    Loss.query(\"`10,000 Borrowers` > @VaR_10K\")['10,000 Borrowers'].mean(),\n",
    "    Loss.query(\"`50,000 Borrowers` > @VaR_50K\")['50,000 Borrowers'].mean(),\n",
    "    Loss.query(\"`100,000 Borrowers` > @VaR_100K\")['100,000 Borrowers'].mean()\n",
    "    \n",
    "]\n",
    "Estimates.round(4)"
   ]
  },
  {
   "cell_type": "code",
   "execution_count": null,
   "id": "a74a78f5",
   "metadata": {},
   "outputs": [],
   "source": [
    "OneK=repeated_val(a,PD,1000)"
   ]
  },
  {
   "cell_type": "code",
   "execution_count": null,
   "id": "b72ad9d5",
   "metadata": {},
   "outputs": [],
   "source": [
    "TenK=repeated_val(a,PD,10000)"
   ]
  },
  {
   "cell_type": "code",
   "execution_count": null,
   "id": "d6dd2191",
   "metadata": {},
   "outputs": [],
   "source": [
    "FiftyK=repeated_val(a,PD,50000)"
   ]
  },
  {
   "cell_type": "code",
   "execution_count": null,
   "id": "a281fa84",
   "metadata": {},
   "outputs": [],
   "source": [
    "HunK=repeated_val(a,PD,100000)"
   ]
  },
  {
   "cell_type": "code",
   "execution_count": null,
   "id": "23485ee2",
   "metadata": {},
   "outputs": [],
   "source": [
    "\"\"\"Collecting results from the repeated valuations and grouping them by portfolio size\"\"\"\n",
    "data=OneK+TenK+FiftyK+HunK\n",
    "RepVal=pd.DataFrame(data,columns=['Borrowers','Mean','Standard Deviation', 'VaR', 'ES','EC']).set_index('Borrowers')\n",
    "# CI.set_index('Borrowers')\n",
    "B_1k=RepVal.groupby('Borrowers').get_group(1000)\n",
    "B_10k=RepVal.groupby('Borrowers').get_group(10000)\n",
    "B_50k=RepVal.groupby('Borrowers').get_group(50000)\n",
    "B_100k=RepVal.groupby('Borrowers').get_group(100000)"
   ]
  },
  {
   "cell_type": "code",
   "execution_count": null,
   "id": "d7e83b4d",
   "metadata": {},
   "outputs": [],
   "source": [
    "\"\"\"Calculating Confidence intervals for each statistic and each size portfolio\"\"\"\n",
    "CI=pd.DataFrame(index=['1,000','10,000','50,000','100,000'])\n",
    "\n",
    "CI['Expected Loss']=(\n",
    "    st.norm.interval(0.95,loc=B_1k['Mean'].mean(), scale=B_1k['Mean'].std()),\n",
    "    st.norm.interval(0.95,loc=B_10k['Mean'].mean(), scale=B_10k['Mean'].std()),\n",
    "    st.norm.interval(0.95,loc=B_50k['Mean'].mean(), scale=B_50k['Mean'].std()),\n",
    "    st.norm.interval(0.95,loc=B_100k['Mean'].mean(), scale=B_100k['Mean'].std())\n",
    ")\n",
    "\n",
    "CI['Standard Deviation']=(\n",
    "    st.norm.interval(0.95,loc=B_1k['Standard Deviation'].mean(), scale=B_1k['Standard Deviation'].std()),\n",
    "    st.norm.interval(0.95,loc=B_10k['Standard Deviation'].mean(), scale=B_10k['Standard Deviation'].std()),\n",
    "    st.norm.interval(0.95,loc=B_50k['Standard Deviation'].mean(), scale=B_50k['Standard Deviation'].std()),\n",
    "    st.norm.interval(0.95,loc=B_100k['Standard Deviation'].mean(), scale=B_100k['Standard Deviation'].std())\n",
    ")\n",
    "\n",
    "CI['99.9% VaR']=(\n",
    "    st.norm.interval(0.95,loc=B_1k['VaR'].mean(), scale=B_1k['VaR'].std()),\n",
    "    st.norm.interval(0.95,loc=B_10k['VaR'].mean(), scale=B_10k['VaR'].std()),\n",
    "    st.norm.interval(0.95,loc=B_50k['VaR'].mean(), scale=B_50k['VaR'].std()),\n",
    "    st.norm.interval(0.95,loc=B_100k['VaR'].mean(), scale=B_100k['VaR'].std())\n",
    ")\n",
    "\n",
    "CI['Economic Capital']=(\n",
    "    st.norm.interval(0.95,loc=B_1k['EC'].mean(), scale=B_1k['EC'].std()),\n",
    "    st.norm.interval(0.95,loc=B_10k['EC'].mean(), scale=B_10k['EC'].std()),\n",
    "    st.norm.interval(0.95,loc=B_50k['EC'].mean(), scale=B_50k['EC'].std()),\n",
    "    st.norm.interval(0.95,loc=B_100k['EC'].mean(), scale=B_100k['EC'].std())\n",
    "    )\n",
    "\n",
    "CI['Expected Shortfall']=(\n",
    "    st.norm.interval(0.95,loc=B_1k['ES'].mean(), scale=B_1k['ES'].std()),\n",
    "    st.norm.interval(0.95,loc=B_10k['ES'].mean(), scale=B_10k['ES'].std()),\n",
    "    st.norm.interval(0.95,loc=B_50k['ES'].mean(), scale=B_50k['ES'].std()),\n",
    "    st.norm.interval(0.95,loc=B_100k['ES'].mean(), scale=B_100k['ES'].std())\n",
    ")\n",
    "\n",
    "#rounding each column since they contain tuples (immutable lists) and a tradition pandas round function won't work\n",
    "CI['Expected Loss'] = CI['Expected Loss'].apply(lambda x: np.round(x,4))\n",
    "CI['Standard Deviation'] = CI['Standard Deviation'].apply(lambda x: np.round(x,4))\n",
    "CI['99.9% VaR'] = CI['99.9% VaR'].apply(lambda x: np.round(x,4))\n",
    "CI['Expected Shortfall'] = CI['Expected Shortfall'].apply(lambda x: np.round(x,4))\n",
    "CI['Economic Capital'] = CI['Economic Capital'].apply(lambda x: np.round(x,4))"
   ]
  },
  {
   "cell_type": "code",
   "execution_count": 54,
   "id": "a2cadb0f-0e01-4f97-b946-3d38359f59d5",
   "metadata": {},
   "outputs": [
    {
     "name": "stdout",
     "output_type": "stream",
     "text": [
      "2.04 ms ± 94.7 µs per loop (mean ± std. dev. of 7 runs, 100 loops each)\n"
     ]
    }
   ],
   "source": [
    "%timeit Loss.query(\"`1,000 Borrowers` > @VaR_1K\")['1,000 Borrowers'].mean()"
   ]
  },
  {
   "cell_type": "code",
   "execution_count": 57,
   "id": "1fea90aa-9471-4231-b425-3c3a4c2393f4",
   "metadata": {},
   "outputs": [],
   "source": [
    "test = np.array(Loss['1,000 Borrowers'])"
   ]
  },
  {
   "cell_type": "code",
   "execution_count": 59,
   "id": "3acf362a-cde5-4266-be3d-843add5da862",
   "metadata": {},
   "outputs": [
    {
     "name": "stdout",
     "output_type": "stream",
     "text": [
      "84.7 µs ± 757 ns per loop (mean ± std. dev. of 7 runs, 10000 loops each)\n"
     ]
    }
   ],
   "source": [
    "%timeit np.mean(test[test>=40])"
   ]
  },
  {
   "cell_type": "code",
   "execution_count": 60,
   "id": "49aa421a-a832-4795-bac5-d02965b0d6fe",
   "metadata": {},
   "outputs": [
    {
     "data": {
      "text/plain": [
       "0       False\n",
       "1       False\n",
       "2       False\n",
       "3       False\n",
       "4        True\n",
       "        ...  \n",
       "9995    False\n",
       "9996    False\n",
       "9997    False\n",
       "9998     True\n",
       "9999     True\n",
       "Name: 1,000 Borrowers, Length: 10000, dtype: bool"
      ]
     },
     "execution_count": 60,
     "metadata": {},
     "output_type": "execute_result"
    }
   ],
   "source": [
    "Loss['1,000 Borrowers']>=40"
   ]
  },
  {
   "cell_type": "code",
   "execution_count": 71,
   "id": "8254d1bd-cab3-4fcc-b800-9f37e3ba18ad",
   "metadata": {},
   "outputs": [
    {
     "ename": "KeyboardInterrupt",
     "evalue": "",
     "output_type": "error",
     "traceback": [
      "\u001b[0;31m---------------------------------------------------------------------------\u001b[0m",
      "\u001b[0;31mKeyboardInterrupt\u001b[0m                         Traceback (most recent call last)",
      "\u001b[0;32m/var/folders/1n/9kywvn8s3271zcw0fgmct4hw0000gn/T/ipykernel_90346/2809568113.py\u001b[0m in \u001b[0;36m<module>\u001b[0;34m\u001b[0m\n\u001b[0;32m----> 1\u001b[0;31m \u001b[0mget_ipython\u001b[0m\u001b[0;34m(\u001b[0m\u001b[0;34m)\u001b[0m\u001b[0;34m.\u001b[0m\u001b[0mrun_line_magic\u001b[0m\u001b[0;34m(\u001b[0m\u001b[0;34m'timeit'\u001b[0m\u001b[0;34m,\u001b[0m \u001b[0;34m'-n1 repeated_val(a,PD,10)'\u001b[0m\u001b[0;34m)\u001b[0m\u001b[0;34m\u001b[0m\u001b[0;34m\u001b[0m\u001b[0m\n\u001b[0m",
      "\u001b[0;32m~/opt/anaconda3/lib/python3.8/site-packages/IPython/core/interactiveshell.py\u001b[0m in \u001b[0;36mrun_line_magic\u001b[0;34m(self, magic_name, line, _stack_depth)\u001b[0m\n\u001b[1;32m   2362\u001b[0m                 \u001b[0mkwargs\u001b[0m\u001b[0;34m[\u001b[0m\u001b[0;34m'local_ns'\u001b[0m\u001b[0;34m]\u001b[0m \u001b[0;34m=\u001b[0m \u001b[0mself\u001b[0m\u001b[0;34m.\u001b[0m\u001b[0mget_local_scope\u001b[0m\u001b[0;34m(\u001b[0m\u001b[0mstack_depth\u001b[0m\u001b[0;34m)\u001b[0m\u001b[0;34m\u001b[0m\u001b[0;34m\u001b[0m\u001b[0m\n\u001b[1;32m   2363\u001b[0m             \u001b[0;32mwith\u001b[0m \u001b[0mself\u001b[0m\u001b[0;34m.\u001b[0m\u001b[0mbuiltin_trap\u001b[0m\u001b[0;34m:\u001b[0m\u001b[0;34m\u001b[0m\u001b[0;34m\u001b[0m\u001b[0m\n\u001b[0;32m-> 2364\u001b[0;31m                 \u001b[0mresult\u001b[0m \u001b[0;34m=\u001b[0m \u001b[0mfn\u001b[0m\u001b[0;34m(\u001b[0m\u001b[0;34m*\u001b[0m\u001b[0margs\u001b[0m\u001b[0;34m,\u001b[0m \u001b[0;34m**\u001b[0m\u001b[0mkwargs\u001b[0m\u001b[0;34m)\u001b[0m\u001b[0;34m\u001b[0m\u001b[0;34m\u001b[0m\u001b[0m\n\u001b[0m\u001b[1;32m   2365\u001b[0m             \u001b[0;32mreturn\u001b[0m \u001b[0mresult\u001b[0m\u001b[0;34m\u001b[0m\u001b[0;34m\u001b[0m\u001b[0m\n\u001b[1;32m   2366\u001b[0m \u001b[0;34m\u001b[0m\u001b[0m\n",
      "\u001b[0;32m~/opt/anaconda3/lib/python3.8/site-packages/decorator.py\u001b[0m in \u001b[0;36mfun\u001b[0;34m(*args, **kw)\u001b[0m\n\u001b[1;32m    230\u001b[0m             \u001b[0;32mif\u001b[0m \u001b[0;32mnot\u001b[0m \u001b[0mkwsyntax\u001b[0m\u001b[0;34m:\u001b[0m\u001b[0;34m\u001b[0m\u001b[0;34m\u001b[0m\u001b[0m\n\u001b[1;32m    231\u001b[0m                 \u001b[0margs\u001b[0m\u001b[0;34m,\u001b[0m \u001b[0mkw\u001b[0m \u001b[0;34m=\u001b[0m \u001b[0mfix\u001b[0m\u001b[0;34m(\u001b[0m\u001b[0margs\u001b[0m\u001b[0;34m,\u001b[0m \u001b[0mkw\u001b[0m\u001b[0;34m,\u001b[0m \u001b[0msig\u001b[0m\u001b[0;34m)\u001b[0m\u001b[0;34m\u001b[0m\u001b[0;34m\u001b[0m\u001b[0m\n\u001b[0;32m--> 232\u001b[0;31m             \u001b[0;32mreturn\u001b[0m \u001b[0mcaller\u001b[0m\u001b[0;34m(\u001b[0m\u001b[0mfunc\u001b[0m\u001b[0;34m,\u001b[0m \u001b[0;34m*\u001b[0m\u001b[0;34m(\u001b[0m\u001b[0mextras\u001b[0m \u001b[0;34m+\u001b[0m \u001b[0margs\u001b[0m\u001b[0;34m)\u001b[0m\u001b[0;34m,\u001b[0m \u001b[0;34m**\u001b[0m\u001b[0mkw\u001b[0m\u001b[0;34m)\u001b[0m\u001b[0;34m\u001b[0m\u001b[0;34m\u001b[0m\u001b[0m\n\u001b[0m\u001b[1;32m    233\u001b[0m     \u001b[0mfun\u001b[0m\u001b[0;34m.\u001b[0m\u001b[0m__name__\u001b[0m \u001b[0;34m=\u001b[0m \u001b[0mfunc\u001b[0m\u001b[0;34m.\u001b[0m\u001b[0m__name__\u001b[0m\u001b[0;34m\u001b[0m\u001b[0;34m\u001b[0m\u001b[0m\n\u001b[1;32m    234\u001b[0m     \u001b[0mfun\u001b[0m\u001b[0;34m.\u001b[0m\u001b[0m__doc__\u001b[0m \u001b[0;34m=\u001b[0m \u001b[0mfunc\u001b[0m\u001b[0;34m.\u001b[0m\u001b[0m__doc__\u001b[0m\u001b[0;34m\u001b[0m\u001b[0;34m\u001b[0m\u001b[0m\n",
      "\u001b[0;32m~/opt/anaconda3/lib/python3.8/site-packages/IPython/core/magic.py\u001b[0m in \u001b[0;36m<lambda>\u001b[0;34m(f, *a, **k)\u001b[0m\n\u001b[1;32m    185\u001b[0m     \u001b[0;31m# but it's overkill for just that one bit of state.\u001b[0m\u001b[0;34m\u001b[0m\u001b[0;34m\u001b[0m\u001b[0;34m\u001b[0m\u001b[0m\n\u001b[1;32m    186\u001b[0m     \u001b[0;32mdef\u001b[0m \u001b[0mmagic_deco\u001b[0m\u001b[0;34m(\u001b[0m\u001b[0marg\u001b[0m\u001b[0;34m)\u001b[0m\u001b[0;34m:\u001b[0m\u001b[0;34m\u001b[0m\u001b[0;34m\u001b[0m\u001b[0m\n\u001b[0;32m--> 187\u001b[0;31m         \u001b[0mcall\u001b[0m \u001b[0;34m=\u001b[0m \u001b[0;32mlambda\u001b[0m \u001b[0mf\u001b[0m\u001b[0;34m,\u001b[0m \u001b[0;34m*\u001b[0m\u001b[0ma\u001b[0m\u001b[0;34m,\u001b[0m \u001b[0;34m**\u001b[0m\u001b[0mk\u001b[0m\u001b[0;34m:\u001b[0m \u001b[0mf\u001b[0m\u001b[0;34m(\u001b[0m\u001b[0;34m*\u001b[0m\u001b[0ma\u001b[0m\u001b[0;34m,\u001b[0m \u001b[0;34m**\u001b[0m\u001b[0mk\u001b[0m\u001b[0;34m)\u001b[0m\u001b[0;34m\u001b[0m\u001b[0;34m\u001b[0m\u001b[0m\n\u001b[0m\u001b[1;32m    188\u001b[0m \u001b[0;34m\u001b[0m\u001b[0m\n\u001b[1;32m    189\u001b[0m         \u001b[0;32mif\u001b[0m \u001b[0mcallable\u001b[0m\u001b[0;34m(\u001b[0m\u001b[0marg\u001b[0m\u001b[0;34m)\u001b[0m\u001b[0;34m:\u001b[0m\u001b[0;34m\u001b[0m\u001b[0;34m\u001b[0m\u001b[0m\n",
      "\u001b[0;32m~/opt/anaconda3/lib/python3.8/site-packages/IPython/core/magics/execution.py\u001b[0m in \u001b[0;36mtimeit\u001b[0;34m(self, line, cell, local_ns)\u001b[0m\n\u001b[1;32m   1182\u001b[0m                     \u001b[0;32mbreak\u001b[0m\u001b[0;34m\u001b[0m\u001b[0;34m\u001b[0m\u001b[0m\n\u001b[1;32m   1183\u001b[0m \u001b[0;34m\u001b[0m\u001b[0m\n\u001b[0;32m-> 1184\u001b[0;31m         \u001b[0mall_runs\u001b[0m \u001b[0;34m=\u001b[0m \u001b[0mtimer\u001b[0m\u001b[0;34m.\u001b[0m\u001b[0mrepeat\u001b[0m\u001b[0;34m(\u001b[0m\u001b[0mrepeat\u001b[0m\u001b[0;34m,\u001b[0m \u001b[0mnumber\u001b[0m\u001b[0;34m)\u001b[0m\u001b[0;34m\u001b[0m\u001b[0;34m\u001b[0m\u001b[0m\n\u001b[0m\u001b[1;32m   1185\u001b[0m         \u001b[0mbest\u001b[0m \u001b[0;34m=\u001b[0m \u001b[0mmin\u001b[0m\u001b[0;34m(\u001b[0m\u001b[0mall_runs\u001b[0m\u001b[0;34m)\u001b[0m \u001b[0;34m/\u001b[0m \u001b[0mnumber\u001b[0m\u001b[0;34m\u001b[0m\u001b[0;34m\u001b[0m\u001b[0m\n\u001b[1;32m   1186\u001b[0m         \u001b[0mworst\u001b[0m \u001b[0;34m=\u001b[0m \u001b[0mmax\u001b[0m\u001b[0;34m(\u001b[0m\u001b[0mall_runs\u001b[0m\u001b[0;34m)\u001b[0m \u001b[0;34m/\u001b[0m \u001b[0mnumber\u001b[0m\u001b[0;34m\u001b[0m\u001b[0;34m\u001b[0m\u001b[0m\n",
      "\u001b[0;32m~/opt/anaconda3/lib/python3.8/timeit.py\u001b[0m in \u001b[0;36mrepeat\u001b[0;34m(self, repeat, number)\u001b[0m\n\u001b[1;32m    203\u001b[0m         \u001b[0mr\u001b[0m \u001b[0;34m=\u001b[0m \u001b[0;34m[\u001b[0m\u001b[0;34m]\u001b[0m\u001b[0;34m\u001b[0m\u001b[0;34m\u001b[0m\u001b[0m\n\u001b[1;32m    204\u001b[0m         \u001b[0;32mfor\u001b[0m \u001b[0mi\u001b[0m \u001b[0;32min\u001b[0m \u001b[0mrange\u001b[0m\u001b[0;34m(\u001b[0m\u001b[0mrepeat\u001b[0m\u001b[0;34m)\u001b[0m\u001b[0;34m:\u001b[0m\u001b[0;34m\u001b[0m\u001b[0;34m\u001b[0m\u001b[0m\n\u001b[0;32m--> 205\u001b[0;31m             \u001b[0mt\u001b[0m \u001b[0;34m=\u001b[0m \u001b[0mself\u001b[0m\u001b[0;34m.\u001b[0m\u001b[0mtimeit\u001b[0m\u001b[0;34m(\u001b[0m\u001b[0mnumber\u001b[0m\u001b[0;34m)\u001b[0m\u001b[0;34m\u001b[0m\u001b[0;34m\u001b[0m\u001b[0m\n\u001b[0m\u001b[1;32m    206\u001b[0m             \u001b[0mr\u001b[0m\u001b[0;34m.\u001b[0m\u001b[0mappend\u001b[0m\u001b[0;34m(\u001b[0m\u001b[0mt\u001b[0m\u001b[0;34m)\u001b[0m\u001b[0;34m\u001b[0m\u001b[0;34m\u001b[0m\u001b[0m\n\u001b[1;32m    207\u001b[0m         \u001b[0;32mreturn\u001b[0m \u001b[0mr\u001b[0m\u001b[0;34m\u001b[0m\u001b[0;34m\u001b[0m\u001b[0m\n",
      "\u001b[0;32m~/opt/anaconda3/lib/python3.8/site-packages/IPython/core/magics/execution.py\u001b[0m in \u001b[0;36mtimeit\u001b[0;34m(self, number)\u001b[0m\n\u001b[1;32m    167\u001b[0m         \u001b[0mgc\u001b[0m\u001b[0;34m.\u001b[0m\u001b[0mdisable\u001b[0m\u001b[0;34m(\u001b[0m\u001b[0;34m)\u001b[0m\u001b[0;34m\u001b[0m\u001b[0;34m\u001b[0m\u001b[0m\n\u001b[1;32m    168\u001b[0m         \u001b[0;32mtry\u001b[0m\u001b[0;34m:\u001b[0m\u001b[0;34m\u001b[0m\u001b[0;34m\u001b[0m\u001b[0m\n\u001b[0;32m--> 169\u001b[0;31m             \u001b[0mtiming\u001b[0m \u001b[0;34m=\u001b[0m \u001b[0mself\u001b[0m\u001b[0;34m.\u001b[0m\u001b[0minner\u001b[0m\u001b[0;34m(\u001b[0m\u001b[0mit\u001b[0m\u001b[0;34m,\u001b[0m \u001b[0mself\u001b[0m\u001b[0;34m.\u001b[0m\u001b[0mtimer\u001b[0m\u001b[0;34m)\u001b[0m\u001b[0;34m\u001b[0m\u001b[0;34m\u001b[0m\u001b[0m\n\u001b[0m\u001b[1;32m    170\u001b[0m         \u001b[0;32mfinally\u001b[0m\u001b[0;34m:\u001b[0m\u001b[0;34m\u001b[0m\u001b[0;34m\u001b[0m\u001b[0m\n\u001b[1;32m    171\u001b[0m             \u001b[0;32mif\u001b[0m \u001b[0mgcold\u001b[0m\u001b[0;34m:\u001b[0m\u001b[0;34m\u001b[0m\u001b[0;34m\u001b[0m\u001b[0m\n",
      "\u001b[0;32m<magic-timeit>\u001b[0m in \u001b[0;36minner\u001b[0;34m(_it, _timer)\u001b[0m\n",
      "\u001b[0;32m/var/folders/1n/9kywvn8s3271zcw0fgmct4hw0000gn/T/ipykernel_90346/541410779.py\u001b[0m in \u001b[0;36mrepeated_val\u001b[0;34m(a, PD, N)\u001b[0m\n\u001b[1;32m     34\u001b[0m     \u001b[0mList\u001b[0m\u001b[0;34m=\u001b[0m\u001b[0;34m[\u001b[0m\u001b[0;34m]\u001b[0m\u001b[0;34m\u001b[0m\u001b[0;34m\u001b[0m\u001b[0m\n\u001b[1;32m     35\u001b[0m     \u001b[0;32mfor\u001b[0m \u001b[0mi\u001b[0m \u001b[0;32min\u001b[0m \u001b[0mrange\u001b[0m\u001b[0;34m(\u001b[0m\u001b[0;36m50\u001b[0m\u001b[0;34m)\u001b[0m\u001b[0;34m:\u001b[0m\u001b[0;34m\u001b[0m\u001b[0;34m\u001b[0m\u001b[0m\n\u001b[0;32m---> 36\u001b[0;31m         \u001b[0mtemp\u001b[0m \u001b[0;34m=\u001b[0m \u001b[0mMC\u001b[0m\u001b[0;34m(\u001b[0m\u001b[0ma\u001b[0m\u001b[0;34m,\u001b[0m\u001b[0mPD\u001b[0m\u001b[0;34m,\u001b[0m\u001b[0mN\u001b[0m\u001b[0;34m)\u001b[0m \u001b[0;31m#this increases computational time exponentially\u001b[0m\u001b[0;34m\u001b[0m\u001b[0;34m\u001b[0m\u001b[0m\n\u001b[0m\u001b[1;32m     37\u001b[0m         \u001b[0mMean\u001b[0m\u001b[0;34m=\u001b[0m\u001b[0mnp\u001b[0m\u001b[0;34m.\u001b[0m\u001b[0mmean\u001b[0m\u001b[0;34m(\u001b[0m\u001b[0mtemp\u001b[0m\u001b[0;34m)\u001b[0m\u001b[0;34m\u001b[0m\u001b[0;34m\u001b[0m\u001b[0m\n\u001b[1;32m     38\u001b[0m         \u001b[0mStd\u001b[0m\u001b[0;34m=\u001b[0m\u001b[0mnp\u001b[0m\u001b[0;34m.\u001b[0m\u001b[0mstd\u001b[0m\u001b[0;34m(\u001b[0m\u001b[0mtemp\u001b[0m\u001b[0;34m)\u001b[0m\u001b[0;34m\u001b[0m\u001b[0;34m\u001b[0m\u001b[0m\n",
      "\u001b[0;32m/var/folders/1n/9kywvn8s3271zcw0fgmct4hw0000gn/T/ipykernel_90346/541410779.py\u001b[0m in \u001b[0;36mMC\u001b[0;34m(a, PD, N)\u001b[0m\n\u001b[1;32m      9\u001b[0m \u001b[0;34m\u001b[0m\u001b[0m\n\u001b[1;32m     10\u001b[0m \u001b[0;32mdef\u001b[0m \u001b[0mMC\u001b[0m\u001b[0;34m(\u001b[0m\u001b[0ma\u001b[0m\u001b[0;34m,\u001b[0m\u001b[0mPD\u001b[0m\u001b[0;34m,\u001b[0m\u001b[0mN\u001b[0m\u001b[0;34m)\u001b[0m\u001b[0;34m:\u001b[0m \u001b[0;31m#monte carlo function\u001b[0m\u001b[0;34m\u001b[0m\u001b[0;34m\u001b[0m\u001b[0m\n\u001b[0;32m---> 11\u001b[0;31m     \u001b[0;32mreturn\u001b[0m \u001b[0mnp\u001b[0m\u001b[0;34m.\u001b[0m\u001b[0marray\u001b[0m\u001b[0;34m(\u001b[0m\u001b[0;34m[\u001b[0m\u001b[0mvasicek\u001b[0m\u001b[0;34m(\u001b[0m\u001b[0ma\u001b[0m\u001b[0;34m,\u001b[0m\u001b[0mPD\u001b[0m\u001b[0;34m,\u001b[0m\u001b[0mN\u001b[0m\u001b[0;34m)\u001b[0m \u001b[0;32mfor\u001b[0m \u001b[0mi\u001b[0m \u001b[0;32min\u001b[0m \u001b[0mrange\u001b[0m\u001b[0;34m(\u001b[0m\u001b[0;36m10000\u001b[0m\u001b[0;34m)\u001b[0m\u001b[0;34m]\u001b[0m\u001b[0;34m)\u001b[0m\u001b[0;34m\u001b[0m\u001b[0;34m\u001b[0m\u001b[0m\n\u001b[0m\u001b[1;32m     12\u001b[0m \u001b[0;34m\u001b[0m\u001b[0m\n\u001b[1;32m     13\u001b[0m \u001b[0;32mdef\u001b[0m \u001b[0mloss_density\u001b[0m\u001b[0;34m(\u001b[0m\u001b[0mx\u001b[0m\u001b[0;34m)\u001b[0m\u001b[0;34m:\u001b[0m\u001b[0;34m\u001b[0m\u001b[0;34m\u001b[0m\u001b[0m\n",
      "\u001b[0;32m/var/folders/1n/9kywvn8s3271zcw0fgmct4hw0000gn/T/ipykernel_90346/541410779.py\u001b[0m in \u001b[0;36m<listcomp>\u001b[0;34m(.0)\u001b[0m\n\u001b[1;32m      9\u001b[0m \u001b[0;34m\u001b[0m\u001b[0m\n\u001b[1;32m     10\u001b[0m \u001b[0;32mdef\u001b[0m \u001b[0mMC\u001b[0m\u001b[0;34m(\u001b[0m\u001b[0ma\u001b[0m\u001b[0;34m,\u001b[0m\u001b[0mPD\u001b[0m\u001b[0;34m,\u001b[0m\u001b[0mN\u001b[0m\u001b[0;34m)\u001b[0m\u001b[0;34m:\u001b[0m \u001b[0;31m#monte carlo function\u001b[0m\u001b[0;34m\u001b[0m\u001b[0;34m\u001b[0m\u001b[0m\n\u001b[0;32m---> 11\u001b[0;31m     \u001b[0;32mreturn\u001b[0m \u001b[0mnp\u001b[0m\u001b[0;34m.\u001b[0m\u001b[0marray\u001b[0m\u001b[0;34m(\u001b[0m\u001b[0;34m[\u001b[0m\u001b[0mvasicek\u001b[0m\u001b[0;34m(\u001b[0m\u001b[0ma\u001b[0m\u001b[0;34m,\u001b[0m\u001b[0mPD\u001b[0m\u001b[0;34m,\u001b[0m\u001b[0mN\u001b[0m\u001b[0;34m)\u001b[0m \u001b[0;32mfor\u001b[0m \u001b[0mi\u001b[0m \u001b[0;32min\u001b[0m \u001b[0mrange\u001b[0m\u001b[0;34m(\u001b[0m\u001b[0;36m10000\u001b[0m\u001b[0;34m)\u001b[0m\u001b[0;34m]\u001b[0m\u001b[0;34m)\u001b[0m\u001b[0;34m\u001b[0m\u001b[0;34m\u001b[0m\u001b[0m\n\u001b[0m\u001b[1;32m     12\u001b[0m \u001b[0;34m\u001b[0m\u001b[0m\n\u001b[1;32m     13\u001b[0m \u001b[0;32mdef\u001b[0m \u001b[0mloss_density\u001b[0m\u001b[0;34m(\u001b[0m\u001b[0mx\u001b[0m\u001b[0;34m)\u001b[0m\u001b[0;34m:\u001b[0m\u001b[0;34m\u001b[0m\u001b[0;34m\u001b[0m\u001b[0m\n",
      "\u001b[0;32m/var/folders/1n/9kywvn8s3271zcw0fgmct4hw0000gn/T/ipykernel_90346/541410779.py\u001b[0m in \u001b[0;36mvasicek\u001b[0;34m(a, PD, N)\u001b[0m\n\u001b[1;32m      3\u001b[0m     \u001b[0mY_i\u001b[0m\u001b[0;34m=\u001b[0m\u001b[0mnp\u001b[0m\u001b[0;34m.\u001b[0m\u001b[0mrandom\u001b[0m\u001b[0;34m.\u001b[0m\u001b[0mnormal\u001b[0m\u001b[0;34m(\u001b[0m\u001b[0msize\u001b[0m\u001b[0;34m=\u001b[0m\u001b[0;34m(\u001b[0m\u001b[0;36m1\u001b[0m\u001b[0;34m,\u001b[0m\u001b[0mN\u001b[0m\u001b[0;34m)\u001b[0m\u001b[0;34m)\u001b[0m\u001b[0;34m\u001b[0m\u001b[0;34m\u001b[0m\u001b[0m\n\u001b[1;32m      4\u001b[0m     \u001b[0mX_i\u001b[0m\u001b[0;34m=\u001b[0m\u001b[0mnp\u001b[0m\u001b[0;34m.\u001b[0m\u001b[0msqrt\u001b[0m\u001b[0;34m(\u001b[0m\u001b[0ma\u001b[0m\u001b[0;34m)\u001b[0m\u001b[0;34m*\u001b[0m\u001b[0mZ\u001b[0m\u001b[0;34m+\u001b[0m\u001b[0mnp\u001b[0m\u001b[0;34m.\u001b[0m\u001b[0msqrt\u001b[0m\u001b[0;34m(\u001b[0m\u001b[0;36m1\u001b[0m\u001b[0;34m-\u001b[0m\u001b[0ma\u001b[0m\u001b[0;34m)\u001b[0m\u001b[0;34m*\u001b[0m\u001b[0mY_i\u001b[0m\u001b[0;34m\u001b[0m\u001b[0;34m\u001b[0m\u001b[0m\n\u001b[0;32m----> 5\u001b[0;31m     \u001b[0mThreshold\u001b[0m\u001b[0;34m=\u001b[0m\u001b[0mst\u001b[0m\u001b[0;34m.\u001b[0m\u001b[0mnorm\u001b[0m\u001b[0;34m.\u001b[0m\u001b[0mppf\u001b[0m\u001b[0;34m(\u001b[0m\u001b[0mPD\u001b[0m\u001b[0;34m)\u001b[0m\u001b[0;34m\u001b[0m\u001b[0;34m\u001b[0m\u001b[0m\n\u001b[0m\u001b[1;32m      6\u001b[0m     \u001b[0mDefaults\u001b[0m \u001b[0;34m=\u001b[0m \u001b[0mnp\u001b[0m\u001b[0;34m.\u001b[0m\u001b[0mwhere\u001b[0m\u001b[0;34m(\u001b[0m\u001b[0mX_i\u001b[0m\u001b[0;34m<\u001b[0m\u001b[0mThreshold\u001b[0m\u001b[0;34m,\u001b[0m\u001b[0;36m1\u001b[0m\u001b[0;34m,\u001b[0m\u001b[0;36m0\u001b[0m\u001b[0;34m)\u001b[0m\u001b[0;34m\u001b[0m\u001b[0;34m\u001b[0m\u001b[0m\n\u001b[1;32m      7\u001b[0m     \u001b[0mLoss\u001b[0m \u001b[0;34m=\u001b[0m \u001b[0mDefaults\u001b[0m\u001b[0;34m\u001b[0m\u001b[0;34m\u001b[0m\u001b[0m\n",
      "\u001b[0;32m~/opt/anaconda3/lib/python3.8/site-packages/scipy/stats/_distn_infrastructure.py\u001b[0m in \u001b[0;36mppf\u001b[0;34m(self, q, *args, **kwds)\u001b[0m\n\u001b[1;32m   2131\u001b[0m         \u001b[0mplace\u001b[0m\u001b[0;34m(\u001b[0m\u001b[0moutput\u001b[0m\u001b[0;34m,\u001b[0m \u001b[0mcond3\u001b[0m\u001b[0;34m,\u001b[0m \u001b[0margsreduce\u001b[0m\u001b[0;34m(\u001b[0m\u001b[0mcond3\u001b[0m\u001b[0;34m,\u001b[0m \u001b[0mupper_bound\u001b[0m\u001b[0;34m)\u001b[0m\u001b[0;34m[\u001b[0m\u001b[0;36m0\u001b[0m\u001b[0;34m]\u001b[0m\u001b[0;34m)\u001b[0m\u001b[0;34m\u001b[0m\u001b[0;34m\u001b[0m\u001b[0m\n\u001b[1;32m   2132\u001b[0m \u001b[0;34m\u001b[0m\u001b[0m\n\u001b[0;32m-> 2133\u001b[0;31m         \u001b[0;32mif\u001b[0m \u001b[0mnp\u001b[0m\u001b[0;34m.\u001b[0m\u001b[0many\u001b[0m\u001b[0;34m(\u001b[0m\u001b[0mcond\u001b[0m\u001b[0;34m)\u001b[0m\u001b[0;34m:\u001b[0m  \u001b[0;31m# call only if at least 1 entry\u001b[0m\u001b[0;34m\u001b[0m\u001b[0;34m\u001b[0m\u001b[0m\n\u001b[0m\u001b[1;32m   2134\u001b[0m             \u001b[0mgoodargs\u001b[0m \u001b[0;34m=\u001b[0m \u001b[0margsreduce\u001b[0m\u001b[0;34m(\u001b[0m\u001b[0mcond\u001b[0m\u001b[0;34m,\u001b[0m \u001b[0;34m*\u001b[0m\u001b[0;34m(\u001b[0m\u001b[0;34m(\u001b[0m\u001b[0mq\u001b[0m\u001b[0;34m,\u001b[0m\u001b[0;34m)\u001b[0m\u001b[0;34m+\u001b[0m\u001b[0margs\u001b[0m\u001b[0;34m+\u001b[0m\u001b[0;34m(\u001b[0m\u001b[0mscale\u001b[0m\u001b[0;34m,\u001b[0m \u001b[0mloc\u001b[0m\u001b[0;34m)\u001b[0m\u001b[0;34m)\u001b[0m\u001b[0;34m)\u001b[0m\u001b[0;34m\u001b[0m\u001b[0;34m\u001b[0m\u001b[0m\n\u001b[1;32m   2135\u001b[0m             \u001b[0mscale\u001b[0m\u001b[0;34m,\u001b[0m \u001b[0mloc\u001b[0m\u001b[0;34m,\u001b[0m \u001b[0mgoodargs\u001b[0m \u001b[0;34m=\u001b[0m \u001b[0mgoodargs\u001b[0m\u001b[0;34m[\u001b[0m\u001b[0;34m-\u001b[0m\u001b[0;36m2\u001b[0m\u001b[0;34m]\u001b[0m\u001b[0;34m,\u001b[0m \u001b[0mgoodargs\u001b[0m\u001b[0;34m[\u001b[0m\u001b[0;34m-\u001b[0m\u001b[0;36m1\u001b[0m\u001b[0;34m]\u001b[0m\u001b[0;34m,\u001b[0m \u001b[0mgoodargs\u001b[0m\u001b[0;34m[\u001b[0m\u001b[0;34m:\u001b[0m\u001b[0;34m-\u001b[0m\u001b[0;36m2\u001b[0m\u001b[0;34m]\u001b[0m\u001b[0;34m\u001b[0m\u001b[0;34m\u001b[0m\u001b[0m\n",
      "\u001b[0;32m<__array_function__ internals>\u001b[0m in \u001b[0;36many\u001b[0;34m(*args, **kwargs)\u001b[0m\n",
      "\u001b[0;32m~/opt/anaconda3/lib/python3.8/site-packages/numpy/core/fromnumeric.py\u001b[0m in \u001b[0;36many\u001b[0;34m(a, axis, out, keepdims, where)\u001b[0m\n\u001b[1;32m   2356\u001b[0m \u001b[0;34m\u001b[0m\u001b[0m\n\u001b[1;32m   2357\u001b[0m     \"\"\"\n\u001b[0;32m-> 2358\u001b[0;31m     return _wrapreduction(a, np.logical_or, 'any', axis, None, out,\n\u001b[0m\u001b[1;32m   2359\u001b[0m                           keepdims=keepdims, where=where)\n\u001b[1;32m   2360\u001b[0m \u001b[0;34m\u001b[0m\u001b[0m\n",
      "\u001b[0;32m~/opt/anaconda3/lib/python3.8/site-packages/numpy/core/fromnumeric.py\u001b[0m in \u001b[0;36m_wrapreduction\u001b[0;34m(obj, ufunc, method, axis, dtype, out, **kwargs)\u001b[0m\n\u001b[1;32m     82\u001b[0m                 \u001b[0;32mreturn\u001b[0m \u001b[0mreduction\u001b[0m\u001b[0;34m(\u001b[0m\u001b[0maxis\u001b[0m\u001b[0;34m=\u001b[0m\u001b[0maxis\u001b[0m\u001b[0;34m,\u001b[0m \u001b[0mdtype\u001b[0m\u001b[0;34m=\u001b[0m\u001b[0mdtype\u001b[0m\u001b[0;34m,\u001b[0m \u001b[0mout\u001b[0m\u001b[0;34m=\u001b[0m\u001b[0mout\u001b[0m\u001b[0;34m,\u001b[0m \u001b[0;34m**\u001b[0m\u001b[0mpasskwargs\u001b[0m\u001b[0;34m)\u001b[0m\u001b[0;34m\u001b[0m\u001b[0;34m\u001b[0m\u001b[0m\n\u001b[1;32m     83\u001b[0m             \u001b[0;32melse\u001b[0m\u001b[0;34m:\u001b[0m\u001b[0;34m\u001b[0m\u001b[0;34m\u001b[0m\u001b[0m\n\u001b[0;32m---> 84\u001b[0;31m                 \u001b[0;32mreturn\u001b[0m \u001b[0mreduction\u001b[0m\u001b[0;34m(\u001b[0m\u001b[0maxis\u001b[0m\u001b[0;34m=\u001b[0m\u001b[0maxis\u001b[0m\u001b[0;34m,\u001b[0m \u001b[0mout\u001b[0m\u001b[0;34m=\u001b[0m\u001b[0mout\u001b[0m\u001b[0;34m,\u001b[0m \u001b[0;34m**\u001b[0m\u001b[0mpasskwargs\u001b[0m\u001b[0;34m)\u001b[0m\u001b[0;34m\u001b[0m\u001b[0;34m\u001b[0m\u001b[0m\n\u001b[0m\u001b[1;32m     85\u001b[0m \u001b[0;34m\u001b[0m\u001b[0m\n\u001b[1;32m     86\u001b[0m     \u001b[0;32mreturn\u001b[0m \u001b[0mufunc\u001b[0m\u001b[0;34m.\u001b[0m\u001b[0mreduce\u001b[0m\u001b[0;34m(\u001b[0m\u001b[0mobj\u001b[0m\u001b[0;34m,\u001b[0m \u001b[0maxis\u001b[0m\u001b[0;34m,\u001b[0m \u001b[0mdtype\u001b[0m\u001b[0;34m,\u001b[0m \u001b[0mout\u001b[0m\u001b[0;34m,\u001b[0m \u001b[0;34m**\u001b[0m\u001b[0mpasskwargs\u001b[0m\u001b[0;34m)\u001b[0m\u001b[0;34m\u001b[0m\u001b[0;34m\u001b[0m\u001b[0m\n",
      "\u001b[0;32m~/opt/anaconda3/lib/python3.8/site-packages/numpy/core/_methods.py\u001b[0m in \u001b[0;36m_any\u001b[0;34m(a, axis, dtype, out, keepdims, where)\u001b[0m\n\u001b[1;32m     52\u001b[0m     \u001b[0;32mreturn\u001b[0m \u001b[0mumr_prod\u001b[0m\u001b[0;34m(\u001b[0m\u001b[0ma\u001b[0m\u001b[0;34m,\u001b[0m \u001b[0maxis\u001b[0m\u001b[0;34m,\u001b[0m \u001b[0mdtype\u001b[0m\u001b[0;34m,\u001b[0m \u001b[0mout\u001b[0m\u001b[0;34m,\u001b[0m \u001b[0mkeepdims\u001b[0m\u001b[0;34m,\u001b[0m \u001b[0minitial\u001b[0m\u001b[0;34m,\u001b[0m \u001b[0mwhere\u001b[0m\u001b[0;34m)\u001b[0m\u001b[0;34m\u001b[0m\u001b[0;34m\u001b[0m\u001b[0m\n\u001b[1;32m     53\u001b[0m \u001b[0;34m\u001b[0m\u001b[0m\n\u001b[0;32m---> 54\u001b[0;31m \u001b[0;32mdef\u001b[0m \u001b[0m_any\u001b[0m\u001b[0;34m(\u001b[0m\u001b[0ma\u001b[0m\u001b[0;34m,\u001b[0m \u001b[0maxis\u001b[0m\u001b[0;34m=\u001b[0m\u001b[0;32mNone\u001b[0m\u001b[0;34m,\u001b[0m \u001b[0mdtype\u001b[0m\u001b[0;34m=\u001b[0m\u001b[0;32mNone\u001b[0m\u001b[0;34m,\u001b[0m \u001b[0mout\u001b[0m\u001b[0;34m=\u001b[0m\u001b[0;32mNone\u001b[0m\u001b[0;34m,\u001b[0m \u001b[0mkeepdims\u001b[0m\u001b[0;34m=\u001b[0m\u001b[0;32mFalse\u001b[0m\u001b[0;34m,\u001b[0m \u001b[0;34m*\u001b[0m\u001b[0;34m,\u001b[0m \u001b[0mwhere\u001b[0m\u001b[0;34m=\u001b[0m\u001b[0;32mTrue\u001b[0m\u001b[0;34m)\u001b[0m\u001b[0;34m:\u001b[0m\u001b[0;34m\u001b[0m\u001b[0;34m\u001b[0m\u001b[0m\n\u001b[0m\u001b[1;32m     55\u001b[0m     \u001b[0;31m# Parsing keyword arguments is currently fairly slow, so avoid it for now\u001b[0m\u001b[0;34m\u001b[0m\u001b[0;34m\u001b[0m\u001b[0;34m\u001b[0m\u001b[0m\n\u001b[1;32m     56\u001b[0m     \u001b[0;32mif\u001b[0m \u001b[0mwhere\u001b[0m \u001b[0;32mis\u001b[0m \u001b[0;32mTrue\u001b[0m\u001b[0;34m:\u001b[0m\u001b[0;34m\u001b[0m\u001b[0;34m\u001b[0m\u001b[0m\n",
      "\u001b[0;31mKeyboardInterrupt\u001b[0m: "
     ]
    }
   ],
   "source": [
    "%timeit -n1 repeated_val(a,PD,10)"
   ]
  },
  {
   "cell_type": "code",
   "execution_count": 66,
   "id": "62841e16-0f3e-4224-80ce-341d4cf663e0",
   "metadata": {},
   "outputs": [
    {
     "data": {
      "text/plain": [
       "10000"
      ]
     },
     "execution_count": 66,
     "metadata": {},
     "output_type": "execute_result"
    }
   ],
   "source": [
    "len(MC(a,PD,100))"
   ]
  },
  {
   "cell_type": "code",
   "execution_count": null,
   "id": "eeb89efd-8907-4e22-b58c-339bd2f80684",
   "metadata": {},
   "outputs": [],
   "source": []
  }
 ],
 "metadata": {
  "kernelspec": {
   "display_name": "Python 3 (ipykernel)",
   "language": "python",
   "name": "python3"
  },
  "language_info": {
   "codemirror_mode": {
    "name": "ipython",
    "version": 3
   },
   "file_extension": ".py",
   "mimetype": "text/x-python",
   "name": "python",
   "nbconvert_exporter": "python",
   "pygments_lexer": "ipython3",
   "version": "3.8.3"
  }
 },
 "nbformat": 4,
 "nbformat_minor": 5
}
